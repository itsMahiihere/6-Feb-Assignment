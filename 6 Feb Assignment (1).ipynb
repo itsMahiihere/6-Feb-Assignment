{
 "cells": [
  {
   "cell_type": "code",
   "execution_count": 2,
   "id": "28c2bc19-ee27-40f9-9311-d5bea80a7346",
   "metadata": {},
   "outputs": [],
   "source": [
    "# Q1. Ans"
   ]
  },
  {
   "cell_type": "code",
   "execution_count": 3,
   "id": "61195f16-03a2-42fa-9834-9f17ffc100b1",
   "metadata": {},
   "outputs": [
    {
     "name": "stdout",
     "output_type": "stream",
     "text": [
      "689118639831180913138973540352000\n"
     ]
    }
   ],
   "source": [
    "def flatten_list_and_get_product(lst):\n",
    "    flat_list = []\n",
    "    \n",
    "    def flatten(l):\n",
    "        for i in l:\n",
    "            if type(i) == int:\n",
    "                flat_list.append(i)\n",
    "            elif type(i) == float:\n",
    "                flat_list.append(i)\n",
    "            elif type(i) == tuple or type(i) == list:\n",
    "                flatten(i)\n",
    "            elif type(i) == dict:\n",
    "                for key, value in i.items():\n",
    "                    if type(key) == int or type(key) == float:\n",
    "                        flat_list.append(key)\n",
    "                    if type(value) == int or type(value) == float:\n",
    "                        flat_list.append(value)\n",
    "                    elif type(value) == list or type(value) == tuple:\n",
    "                        flatten(value)\n",
    "                        \n",
    "    flatten(lst)\n",
    "    product = 1\n",
    "    for i in flat_list:\n",
    "        product *= i\n",
    "    return product\n",
    "\n",
    "list1 = [1,2,3,4, [44,55,66, True], False, (34,56,78,89,34), {1,2,3,3,2,1}, {1:34, \"key2\": [55, 67, 78, 89], 4: (45, \n",
    "22, 61, 34)}, [56, 'data science'], 'Machine Learning']\n",
    "\n",
    "print(flatten_list_and_get_product(list1))\n",
    "            "
   ]
  },
  {
   "cell_type": "code",
   "execution_count": 4,
   "id": "2424d9dc-3742-4b60-ad44-c82233d72b36",
   "metadata": {},
   "outputs": [],
   "source": [
    "# Q2. Ans:-"
   ]
  },
  {
   "cell_type": "code",
   "execution_count": 5,
   "id": "6be1e025-feb4-4fc8-8aa5-ca8ea482d975",
   "metadata": {},
   "outputs": [
    {
     "name": "stdout",
     "output_type": "stream",
     "text": [
      "Encrypted Sentence: r$dzmg$gl$yvxlnv$z$wzgz$hxrvmgrhg.\n"
     ]
    }
   ],
   "source": [
    "def encrypt_sentence(sentence):\n",
    "    sentence = sentence.lower()\n",
    "    encrypted_sentence = \"\"\n",
    "    for char in sentence:\n",
    "        if char == ' ':\n",
    "            encrypted_sentence += '$'\n",
    "        elif char.isalpha():\n",
    "            encrypted_sentence += chr(122 - ord(char) + 97)\n",
    "        else:\n",
    "            encrypted_sentence += char\n",
    "    return encrypted_sentence\n",
    "\n",
    "sentence = \"I want to become a Data Scientist.\"\n",
    "encrypted_sentence = encrypt_sentence(sentence)\n",
    "print(\"Encrypted Sentence:\", encrypted_sentence)"
   ]
  },
  {
   "cell_type": "code",
   "execution_count": null,
   "id": "6b1e9104-30a9-4f60-a3be-57af934fb777",
   "metadata": {},
   "outputs": [],
   "source": []
  }
 ],
 "metadata": {
  "kernelspec": {
   "display_name": "Python 3 (ipykernel)",
   "language": "python",
   "name": "python3"
  },
  "language_info": {
   "codemirror_mode": {
    "name": "ipython",
    "version": 3
   },
   "file_extension": ".py",
   "mimetype": "text/x-python",
   "name": "python",
   "nbconvert_exporter": "python",
   "pygments_lexer": "ipython3",
   "version": "3.10.8"
  }
 },
 "nbformat": 4,
 "nbformat_minor": 5
}
